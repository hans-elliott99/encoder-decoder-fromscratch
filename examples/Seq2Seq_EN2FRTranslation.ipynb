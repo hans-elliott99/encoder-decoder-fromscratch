{
  "nbformat": 4,
  "nbformat_minor": 0,
  "metadata": {
    "colab": {
      "provenance": [],
      "collapsed_sections": [],
      "authorship_tag": "ABX9TyNGM/xpxMaEe8mr3JJ2/zRS",
      "include_colab_link": true
    },
    "kernelspec": {
      "name": "python3",
      "display_name": "Python 3"
    },
    "language_info": {
      "name": "python"
    },
    "accelerator": "GPU"
  },
  "cells": [
    {
      "cell_type": "markdown",
      "metadata": {
        "id": "view-in-github",
        "colab_type": "text"
      },
      "source": [
        "<a href=\"https://colab.research.google.com/github/hans-elliott99/encoder-decoder-fromscratch/blob/main/examples/Seq2Seq_EN2FRTranslation.ipynb\" target=\"_parent\"><img src=\"https://colab.research.google.com/assets/colab-badge.svg\" alt=\"Open In Colab\"/></a>"
      ]
    },
    {
      "cell_type": "code",
      "source": [
        "# Text preprocessing\n",
        "from __future__ import unicode_literals, print_function, division\n",
        "from io import open\n",
        "import glob\n",
        "import os\n",
        "import unicodedata\n",
        "import string\n",
        "from typing import Union\n",
        "import numpy as np\n",
        "import re\n",
        "\n",
        "\n",
        "# Model/Train Helpers\n",
        "import random\n",
        "import time\n",
        "import math\n",
        "import matplotlib.pyplot as plt\n",
        "import matplotlib.ticker as ticker\n",
        "from matplotlib.lines import Line2D\n",
        "\n",
        "# PyTorch\n",
        "import torch"
      ],
      "metadata": {
        "id": "-l3Y67HErBat"
      },
      "execution_count": 1,
      "outputs": []
    },
    {
      "cell_type": "code",
      "source": [
        "print(torch.cuda.is_available())\n",
        "device = torch.device(\"cuda:0\" if torch.cuda.is_available() else \"cpu\")\n",
        "print(device)"
      ],
      "metadata": {
        "colab": {
          "base_uri": "https://localhost:8080/"
        },
        "id": "X4pEfoLQwQ9r",
        "outputId": "a8bb9667-a79a-4b0e-96c9-eca47c902e7d"
      },
      "execution_count": 2,
      "outputs": [
        {
          "output_type": "stream",
          "name": "stdout",
          "text": [
            "True\n",
            "cuda:0\n"
          ]
        }
      ]
    },
    {
      "cell_type": "code",
      "source": [
        "from google.colab import drive\n",
        "drive.mount('/content/gdrive')"
      ],
      "metadata": {
        "colab": {
          "base_uri": "https://localhost:8080/"
        },
        "id": "HSNM_9Y_stX1",
        "outputId": "a4b2b26f-c888-4007-a02f-9c274b280a99"
      },
      "execution_count": 3,
      "outputs": [
        {
          "output_type": "stream",
          "name": "stdout",
          "text": [
            "Mounted at /content/gdrive\n"
          ]
        }
      ]
    },
    {
      "cell_type": "markdown",
      "source": [
        "# Helpers"
      ],
      "metadata": {
        "id": "0q47D8-UwYQn"
      }
    },
    {
      "cell_type": "code",
      "source": [
        "def plot_grad_flow_basic(raw_parameters : list, param_names : list=None, y_ax_max=\"max_average\"):\n",
        "    '''\n",
        "    Plots the gradients flowing through different layers in the net during training.\n",
        "    Can be used for checking for possible gradient vanishing / exploding problems.\n",
        "    \n",
        "    Usage: Provide the list of raw model parameters. Optionally provide list of names matching param order.\n",
        "    y_ax_max is the y axis limit and is either \"max_average\" or \"mean_average\"\n",
        "    Adapted from source: https://discuss.pytorch.org/t/check-gradient-flow-in-network/15063/10\n",
        "    '''\n",
        "    ave_grads = []\n",
        "    max_grads= []\n",
        "    layers = []\n",
        "    for n, p in enumerate(raw_parameters):\n",
        "        if(p.requires_grad) & (p.grad is not None): #and (\"bias\" not in n):\n",
        "            layers.append(str(n))\n",
        "            ave_grads.append(p.grad.abs().mean().item())\n",
        "            max_grads.append(p.grad.abs().max().item())\n",
        "\n",
        "    xticks = range(0,len(ave_grads), 1)\n",
        "    y_min = min(ave_grads)\n",
        "    y_max = max(ave_grads)\n",
        "    if y_ax_max == \"mean_average\":\n",
        "        y_max = (sum(ave_grads)/len(ave_grads))\n",
        "    if param_names is not None:\n",
        "        for x_ix in xticks:\n",
        "            plt.text(x_ix, y_max/3, s=param_names[x_ix], rotation=90)\n",
        "\n",
        "    plt.bar(range(len(max_grads)), max_grads, alpha=0.1, lw=1, color=\"c\")\n",
        "    plt.bar(range(len(max_grads)), ave_grads, alpha=0.1, lw=1, color=\"b\")\n",
        "    plt.hlines(0, 0, len(ave_grads)+1, lw=2, color=\"k\" )\n",
        "    plt.xticks(xticks, layers, rotation=\"vertical\")\n",
        "    plt.xlim(left=0, right=len(ave_grads))\n",
        "    plt.ylim(bottom = y_min, top=y_max) # zoom in on the lower gradient regions\n",
        "    plt.xlabel(\"Layers\")\n",
        "    plt.ylabel(\"average gradient\")\n",
        "    plt.title(\"Gradient flow\")\n",
        "    plt.grid(True)\n",
        "    plt.legend([Line2D([0], [0], color=\"c\", lw=4),\n",
        "                Line2D([0], [0], color=\"b\", lw=4),\n",
        "                Line2D([0], [0], color=\"k\", lw=4)], ['max-gradient', 'mean-gradient', 'zero-gradient'])"
      ],
      "metadata": {
        "id": "O8fLJBWGrOBG"
      },
      "execution_count": 34,
      "outputs": []
    },
    {
      "cell_type": "code",
      "source": [
        "def words_to_ch_data(eng, fra, stoi, stop_char:str, device):\n",
        "    \"\"\"\n",
        "    Converts words to character-level data.\n",
        "    \"\"\"\n",
        "    assert len(eng)==len(fra)\n",
        "    # Data\n",
        "    ## block_size = context length: how many chars do we use to predict the next?\n",
        "    X, Y = [], []\n",
        "    for en, fr in zip(eng, fra):\n",
        "        \n",
        "        # diff = len(fr) - len(en)\n",
        "        # if diff > 0:\n",
        "        #     add_to_en = abs(diff)\n",
        "        #     add_to_fr = 0\n",
        "        # elif diff < 0:\n",
        "        #     add_to_en = 0\n",
        "        #     add_to_fr = abs(diff)\n",
        "        # else:\n",
        "        #     add_to_en = 0\n",
        "        #     add_to_fr = 0\n",
        "\n",
        "        english_ix, french_ix = [], []\n",
        "        for ch in en:\n",
        "            english_ix.append(stoi[ch])\n",
        "        english_ix.append(stoi[stop_char])\n",
        "        # english_ix += [stoi[stop_char]] * add_to_en\n",
        "\n",
        "        for ch in fr:\n",
        "            french_ix.append(stoi[ch])\n",
        "        french_ix.append(stoi[stop_char])\n",
        "        # french_ix += [stoi[stop_char]] * add_to_fr\n",
        "\n",
        "        X.append(torch.tensor(english_ix, device=device))\n",
        "        Y.append(torch.tensor(french_ix, device=device))\n",
        "\n",
        "    return X, Y\n",
        "\n",
        "\n",
        "def words_to_word_data(eng, fra, stoi, stop_char:str, device, keep_punct=\"\"):\n",
        "    \"\"\"\n",
        "    Converts words to word-level data.\n",
        "    \"\"\"\n",
        "    assert len(eng)==len(fra)\n",
        "    remove_punct = ''.join([p for p in string.punctuation if p not in keep_punct]) ##remove all punct except...\n",
        "    # Data\n",
        "    X, Y = [], []\n",
        "    for en, fr in zip(eng, fra):\n",
        "        # remove unwanted punctuation\n",
        "        en = ''.join([c for c in en if c not in remove_punct]).lower()\n",
        "        fr = ''.join([c for c in fr if c not in remove_punct]).lower()\n",
        "\n",
        "        # split phrases into words\n",
        "        english_ix, french_ix = [], []\n",
        "        for wd in en.split():\n",
        "            english_ix.append(stoi[wd])\n",
        "        english_ix.append(stoi[stop_char])\n",
        "\n",
        "        for wd in fr.split():\n",
        "            french_ix.append(stoi[wd])\n",
        "        french_ix.append(stoi[stop_char])\n",
        "\n",
        "        X.append(torch.tensor(english_ix, device=device))\n",
        "        Y.append(torch.tensor(french_ix, device=device))\n",
        "\n",
        "    return X, Y\n",
        "\n",
        "\n",
        "\n",
        "def split_samples(inputs, labels, frac=0.8, seed=123):\n",
        "    \"Split x and y tensors (inputs and labels) into train and test sets\"\n",
        "    \n",
        "    assert len(inputs)==len(labels), f\"len(inputs) {len(inputs)} does not match len(labels) {len(labels)}\"\n",
        "    # generate a list of indices to exclude. Turn in into a set for O(1) lookup time\n",
        "    random.seed(seed)\n",
        "    indx = list(set(random.sample(list(range(len(inputs))), int(frac*len(inputs)))))\n",
        "\n",
        "    x_mask = torch.zeros((len(inputs)), dtype=torch.bool) #False\n",
        "    x_mask[indx] = True\n",
        "\n",
        "    y_mask = torch.zeros((len(inputs)), dtype=torch.bool) #False\n",
        "    y_mask[indx] = True\n",
        "\n",
        "    train_x = inputs[x_mask]\n",
        "    train_y = labels[y_mask]\n",
        "\n",
        "    test_x = inputs[~x_mask]\n",
        "    test_y = labels[~y_mask]\n",
        "\n",
        "    return train_x, train_y, test_x, test_y"
      ],
      "metadata": {
        "id": "Bow6RlnKsK9w"
      },
      "execution_count": 88,
      "outputs": []
    },
    {
      "cell_type": "code",
      "source": [
        "def import_data(file_path, max_english_chars, max_french_chars):\n",
        "    english, french = [],[]\n",
        "\n",
        "    matches = [\"(\", \"‽\", \"…\", \"€\"]\n",
        "    with open(file_path, encoding=\"utf-8\") as file:\n",
        "        for line in file:\n",
        "            line = line.rstrip()\n",
        "            line = line.replace(u\"\\u202f\", \" \")\n",
        "            line = line.replace(u\"\\u3000\", \" \")\n",
        "            line = line.replace(u\"\\u2000\", \" \")\n",
        "            line = line.replace(u\"\\u200b\", \" \")\n",
        "            line = line.replace(u\"\\xa0\", \" \")\n",
        "            line = line.replace(u\"\\xad\", \" \")\n",
        "            line = line.replace(u\"\\u2009\", \" \")\n",
        "            line = line.replace(\"ú\", \"u\")\n",
        "            line = line.replace(\"–\", \"-\")\n",
        "            line = line.replace(\"а\", \"a\")\n",
        "            line = line.replace(\"‐\", \"-\")\n",
        "            line = line.replace(\"₂\", \"2\")\n",
        "            line = line.replace(\"\\'\", \"'\")\n",
        "            if any(s in line for s in matches): ##removes some edge cases\n",
        "                pass\n",
        "            else:        \n",
        "                eng, fra = line.split('\\t')\n",
        "            \n",
        "            if (len(fra)>max_french_chars) | (len(eng)>max_english_chars):\n",
        "                pass\n",
        "            else:\n",
        "                english.append(eng)\n",
        "                french.append(fra)\n",
        "    return english, french"
      ],
      "metadata": {
        "id": "63gLUhS1sXqa"
      },
      "execution_count": 6,
      "outputs": []
    },
    {
      "cell_type": "markdown",
      "source": [
        "# Model\n",
        "## Encoder-Decoder Network with GRUs processing the sequences"
      ],
      "metadata": {
        "id": "FUjC2tM2wbO7"
      }
    },
    {
      "cell_type": "code",
      "source": [
        "class TranslGRU:\n",
        "    def __init__(self, vocab_size, \n",
        "                       enc_embed_dim, dec_embed_dim,\n",
        "                       dec_type, hidden_size, max_length,\n",
        "                       stoi_mapping, start_chr, stop_chr\n",
        "                ) -> None:\n",
        "        \"\"\"\n",
        "        Define an Encoder-Decoder network each consisting of a GRU for sequence to sequence translation.\n",
        "        n_letters = number of unique letters/characters that appear in the data.\n",
        "        embed_dim = dimension of the embedding layer\n",
        "        dec_type = \"simple\" or \"attention\"  \n",
        "        hidden_size = desired number of elements in the hidden and cell states\n",
        "        output_size = Dense layer ontop of the decoder converts last hidden state to logits of shape (output_size, 1)\n",
        "        \"\"\"\n",
        "        # Model architecture\n",
        "        self.input_size = vocab_size\n",
        "        \n",
        "        self.enc_embed_dim = enc_embed_dim\n",
        "        self.dec_embed_dim = dec_embed_dim\n",
        "        self.dec_type = dec_type\n",
        "        self.max_length = max_length\n",
        "\n",
        "        self.enc_hidden_size = hidden_size ## technically the dec hidden size has to be the same as the encoder rn\n",
        "        self.dec_hidden_size = hidden_size ##\n",
        "\n",
        "        self.output_size = vocab_size\n",
        "        \n",
        "        # Data processing\n",
        "        self.stoi = stoi_mapping\n",
        "        self.itos = {i:s for s, i in stoi_mapping.items()}\n",
        "\n",
        "        assert start_chr in stoi_mapping\n",
        "        assert stop_chr in stoi_mapping\n",
        "        self.start_chr_ix = stoi_mapping[start_chr]\n",
        "        self.stop_chr_ix = stoi_mapping[stop_chr]\n",
        "\n",
        "    def init_hidden(self) -> torch.tensor:\n",
        "        \"\"\"Initialize hidden state. Returns: hidden\"\"\"\n",
        "        hidden = torch.zeros((self.enc_hidden_size, 1), device=self.device)  #(hidden size , batch size)\n",
        "        return hidden\n",
        "\n",
        "    def init_weights(self, device, seed=123) -> None:\n",
        "        \"\"\"Initialize weight tensors for the model.\"\"\"\n",
        "        g = torch.Generator(device=device).manual_seed(seed)\n",
        "\n",
        "        self.device = device\n",
        "        self.params = []\n",
        "        self.param_names = []\n",
        "\n",
        "        self._init_enc_weights(g=g, device=device)\n",
        "        self._init_dec_weights(g=g, device=device)\n",
        "        \n",
        "        for p in self.params:\n",
        "            p.requires_grad = True\n",
        "\n",
        "        self.n_parameters = self._count_params()\n",
        "\n",
        "    def _init_enc_weights(self, g, device) -> None:\n",
        "        \"\"\"Initialize weight tensors for the decoder model.\"\"\"\n",
        "        std = 1.0 / np.sqrt(self.enc_hidden_size)\n",
        "        concat_size = self.enc_embed_dim + self.enc_hidden_size\n",
        "\n",
        "        self.enc_embed = (-std - std) * torch.rand((self.input_size, self.enc_embed_dim), generator=g, device=device) + std\n",
        "\n",
        "        self.enc_W_reset = (-std - std) * torch.rand((self.enc_hidden_size, concat_size), generator=g, device=device) + std\n",
        "        self.enc_br = torch.zeros((self.enc_hidden_size, 1), device=device)\n",
        "        self.enc_W_update = (-std - std) * torch.rand((self.enc_hidden_size, concat_size), generator=g, device=device) + std\n",
        "        self.enc_bu = torch.zeros((self.enc_hidden_size, 1), device=device)\n",
        "        self.enc_W_htilde = (-std - std) * torch.rand((self.enc_hidden_size, concat_size), generator=g, device=device) + std\n",
        "        #self.bh = torch.zeros((self.hidden_size, 1), device=device)\n",
        "        \n",
        "        self.params += [self.enc_embed, self.enc_W_reset, self.enc_br, self.enc_W_update, self.enc_bu, self.enc_W_htilde]\n",
        "        self.param_names += ['enc_embed', 'enc_W_reset', 'enc_br', 'enc_W_update', 'enc_bu', 'enc_W_htilde']\n",
        "        \n",
        "    def _init_dec_weights(self, g, device) -> None:\n",
        "        \"\"\"Initialize weight tensors for the decoder.\"\"\"\n",
        "        std = 1.0 / np.sqrt(self.dec_hidden_size)\n",
        "        concat_size = self.dec_embed_dim + self.dec_hidden_size\n",
        "\n",
        "        if self.dec_type == \"attention\":\n",
        "            self.W_att = (-std - std) * torch.rand((self.max_length, concat_size), generator=g, device=device) + std\n",
        "            self.ba = torch.zeros((self.max_length, 1), device=device)\n",
        "            self.W_rel = (-std - std) * torch.rand((self.dec_embed_dim, concat_size), generator=g, device=device) + std\n",
        "            self.brel = torch.zeros((self.dec_embed_dim, 1), device=device)\n",
        "\n",
        "            self.params += [self.W_att, self.ba, self.W_rel, self.brel]\n",
        "            self.param_names += ['W_att', 'ba', 'W_rel', 'brel']\n",
        "\n",
        "        self.dec_embed = (-std - std) * torch.rand((self.input_size, self.dec_embed_dim), generator=g, device=device) + std\n",
        "        self.dec_W_reset = (-std - std) * torch.rand((self.dec_hidden_size, concat_size), generator=g, device=device) + std\n",
        "        self.dec_br = torch.zeros((self.dec_hidden_size, 1), device=device)\n",
        "        self.dec_W_update = (-std - std) * torch.rand((self.dec_hidden_size, concat_size), generator=g, device=device) + std\n",
        "        self.dec_bu = torch.zeros((self.dec_hidden_size, 1), device=device)\n",
        "        self.dec_W_htilde = (-std - std) * torch.rand((self.dec_hidden_size, concat_size), generator=g, device=device) + std\n",
        "        #self.bh = torch.zeros((self.hidden_size, 1), device=device)\n",
        "        # FC HEAD\n",
        "        self.W_h2o = (-std - std) * torch.rand((self.output_size, self.dec_hidden_size), generator=g, device=device) + std\n",
        "        self.b_h20 = torch.zeros((self.output_size, 1), device=device)\n",
        "\n",
        "        self.params += [self.dec_embed, self.dec_W_reset, self.dec_br, self.dec_W_update, self.dec_bu, self.dec_W_htilde, self.W_h2o, self.b_h20]\n",
        "        self.param_names += ['dec_embed', 'dec_W_reset', 'dec_br', 'dec_W_update', 'dec_bu', 'dec_W_htilde', 'W_h2o', 'b_h20']\n",
        "\n",
        "\n",
        "    def encoder(self, hidden_prev, x_tensor_t):\n",
        "        \"ENCODER AT STEP T\"\n",
        "        input = self.enc_embed[x_tensor_t].unsqueeze(dim=1)\n",
        "        hidden_new = self.gru(input, hidden_prev, self.enc_W_reset, self.enc_br, self.enc_W_update, self.enc_bu, self.enc_W_htilde)\n",
        "        return hidden_new\n",
        "    \n",
        "    def simple_decoder(self, context_vector, input_char_t):\n",
        "        \"DECODER AT STEP T\"\n",
        "        input = self.dec_embed[input_char_t].unsqueeze(dim=1)\n",
        "        hidden_new = self.gru(input, context_vector, self.dec_W_reset, self.dec_br, self.dec_W_update, self.dec_bu, self.dec_W_htilde)\n",
        "        \n",
        "        # run hidden state through linear layer to predict next char\n",
        "        # output = torch.softmax(self.linear(hidden_new))\n",
        "        logits = self.linear_head(hidden_new)\n",
        "        next_input_char = int(torch.argmax(logits, dim=0).item()) ##return just the index\n",
        "\n",
        "        return hidden_new, logits, next_input_char\n",
        "    \n",
        "    def attention_decoder(self, enc_outputs, prev_hidden, input_char_t):\n",
        "        \"ATTENTION DECODER AT STEP T\"\n",
        "        # embed the current character and concatenate with previous hidden state\n",
        "        embedded = self.dec_embed[input_char_t].unsqueeze(dim=1) ##shape embed_dim, 1\n",
        "        concat1 = torch.cat((embedded, prev_hidden), dim=0).to(self.device)      ##shape embed_dim+hidden_size, 1\n",
        "        # calculate attention weights by passing in the concatenation & softmaxing\n",
        "        # apply the attention vector to the context vector\n",
        "        atten = torch.nn.functional.softmax(self.linear_attention(concat1), dim=0).T ##shape 1, max_len. & enc_outputs have shape max_len, hidden_size\n",
        "        atten_weighted = (atten @ enc_outputs).squeeze(dim=0)            ##shape hidden_size\n",
        "        ## attention vector is broadcast over the entire enc output matrix (where each row is a hidden state), weighting\n",
        "\n",
        "        # concat the attention-weighted context with the input embedding and pass through a ReLU linear layer\n",
        "        concat2 = torch.cat((embedded, atten_weighted.unsqueeze(dim=1)), dim=0).to(self.device)          ##shape embed_dim+hidden_size, 1\n",
        "        gru_input = torch.nn.functional.relu(self.linear_relu(concat2))                 ##shape embed_dim, 1\n",
        "\n",
        "        # pass the attention-processed inputs into the decoder gru along with previous hidden state to generate new hidden\n",
        "        hidden_new = self.gru(gru_input, prev_hidden, self.dec_W_reset, self.dec_br, self.dec_W_update, self.dec_bu, self.dec_W_htilde)\n",
        "\n",
        "        # run hidden state through linear layer to predict next char\n",
        "        logits = self.linear_head(hidden_new)  \n",
        "        next_input_char = int(torch.argmax(logits, dim=0).item())\n",
        "        \n",
        "        return hidden_new, logits, next_input_char\n",
        "    \n",
        "    def gru(self, input, hidden,\n",
        "                  W_reset, br,\n",
        "                  W_update, bu,\n",
        "                  W_htilde\n",
        "                  ) -> torch.tensor:\n",
        "        \"\"\"One forward step in a GRU cell to update hidden state. Returns: hidden_new\"\"\"\n",
        "        # Concatenate inputs with incoming hidden state\n",
        "        concat_raw = torch.cat((input, hidden), dim=0)\n",
        "\n",
        "        # Calc reset gate and apply to hidden state to produce gated/reset hidden state\n",
        "        r_gate = torch.sigmoid(W_reset @ concat_raw + br)\n",
        "        hidden_reset = hidden * r_gate\n",
        "\n",
        "        # Concatenate inputs with gated hidden state\n",
        "        concat_gated = torch.cat((input, hidden_reset), dim=0)\n",
        "        # Calculate h tilde, the proposed new hidden state, using the gated concatenation\n",
        "        h_tilde = torch.tanh(W_htilde @ concat_gated)\n",
        "\n",
        "        # Calc update gate using the raw/ungated concatenation\n",
        "        u_gate = torch.sigmoid(W_update @ concat_raw + bu)\n",
        "\n",
        "        # Update hidden state with (1 - update gate) * hidden_t-1 + (update gate * h tilde):\n",
        "        hidden_new = (1 - u_gate) * hidden + u_gate * h_tilde\n",
        "        \n",
        "        return hidden_new\n",
        "    \n",
        "    def linear_head(self, input):\n",
        "        return self.W_h2o @ input + self.b_h20\n",
        "\n",
        "    def linear_attention(self, input):\n",
        "        return self.W_att @ input + self.ba\n",
        "\n",
        "    def linear_relu(self, input):\n",
        "        return self.W_rel @ input + self.brel\n",
        "\n",
        "    def backprop_update(self, optimizer) -> None:\n",
        "        \"\"\"Zero gradients, backpropogate via loss, and update params with optimizer\"\"\"\n",
        "        # ensure gradients are zerod\n",
        "        # for p in self.params:\n",
        "        #     p.grad = None\n",
        "        optimizer.zero_grad(set_to_none=True)\n",
        "        # backprop\n",
        "        self.loss.backward()\n",
        "\n",
        "        # update\n",
        "        # for i, p in enumerate(self.params):\n",
        "        #     p.data += -lr * p.grad\n",
        "        optimizer.step()\n",
        "\n",
        "    def _count_params(self):\n",
        "        n_params = 0\n",
        "        for p in self.params:\n",
        "            n_params += p.nelement()\n",
        "        return n_params\n",
        "\n",
        "\n",
        "    def forward(self, x:torch.tensor, y:torch.tensor=None, teacher_forcing_ratio=0.0, max_length=100):\n",
        "        \"\"\"\n",
        "        Perform an entire forward pass of one sample to calculate outputs and calculate loss if y is provided.\n",
        "        Returns output_chars, loss.\n",
        "        \"\"\"\n",
        "\n",
        "        # Determine maximum length to predict for\n",
        "        if y is None:\n",
        "            target_length = max_length\n",
        "        else:\n",
        "            target_length = y.shape[0]\n",
        "            # y_ohe = torch.nn.functional.one_hot(y, num_classes=self.output_size)\n",
        "\n",
        "\n",
        "        # ENCODER\n",
        "        # Tensor to store the encoder gru's outputs at each timestep (as columns)\n",
        "        enc_outputs = torch.zeros((self.max_length, self.enc_hidden_size), device=self.device)\n",
        "        # Initialize hidden state with zeros\n",
        "        enc_hidden = self.init_hidden()\n",
        "\n",
        "        # Pass through X sequentially into the encoder and update hidden state\n",
        "        loss = 0\n",
        "        for t in range(x.shape[0]):\n",
        "            enc_hidden = self.encoder(hidden_prev=enc_hidden, x_tensor_t=x[t])\n",
        "            enc_outputs[t] = enc_hidden.squeeze(1)\n",
        "        \n",
        "        # encoder passes the finall hidden state (context vector) to simple decoder or attention decoder\n",
        "        # the attention decoder also uses the enc_outputs matrix (ie, it uses all of the hidden states produced in the loop above)\n",
        "\n",
        "        # DECODER\n",
        "        use_teacher_forcing = True if random.random() < teacher_forcing_ratio else False ##returns True if the float between [0, 1] is less than ratio\n",
        "        output_chrs = []\n",
        "        dec_hidden = enc_hidden ##last enc hidden state is the first context vector for simple decoder/first hidden state for attention decoder\n",
        "\n",
        "        # Use the final hidden state (context vector) and the start token to start the decoding and predict the next character in the sequence\n",
        "        # Repeat until the stop token is predicted or the target length is reached\n",
        "        input_chr = self.start_chr_ix \n",
        "        for t in range(target_length):\n",
        "            # SIMPLE\n",
        "            if self.dec_type==\"simple\":\n",
        "                # The last encoder hidden vector is \n",
        "                dec_hidden, logits, input_chr = self.simple_decoder(context_vector=dec_hidden, input_char_t=input_chr)\n",
        "                output_chrs.append(input_chr)\n",
        "            \n",
        "            # ATTENTION\n",
        "            if self.dec_type==\"attention\":\n",
        "                dec_hidden, logits, input_chr = self.attention_decoder(enc_outputs=enc_outputs, \n",
        "                                                                       prev_hidden=dec_hidden,\n",
        "                                                                       input_char_t=input_chr)  ##returns predicted character\n",
        "                output_chrs.append(input_chr)\n",
        "\n",
        "            if y is not None:\n",
        "                loss += torch.nn.functional.cross_entropy(logits.squeeze(), y[t])\n",
        "\n",
        "            if input_chr == self.stop_chr_ix:\n",
        "                break\n",
        "\n",
        "            if use_teacher_forcing:\n",
        "                # overwrite the predicted input_chr since we will give the model the true input chr\n",
        "                input_chr = y[t].item()\n",
        "        \n",
        "        # Save final loss for backpropagation through time\n",
        "        self.loss = loss\n",
        "\n",
        "        return output_chrs, loss\n",
        "    \n",
        "    def evaluate(self, english_text:str=\"hello\", level=\"word\"):\n",
        "        \"\"\"Forward passes english_txt + 'stop_chr' through the model. level is either 'word' or 'character'.\"\"\"\n",
        "        remove_punct = ''.join([p for p in string.punctuation if p not in \"'<\"])\n",
        "\n",
        "        if level==\"word\":\n",
        "            text = english_text+\" <\"\n",
        "            text = ''.join([c for c in text.lower() if c not in remove_punct])\n",
        "            input = torch.tensor([self.stoi[w] for w in text.split()], device=self.device)\n",
        "        elif level==\"character\":\n",
        "            text = english_text+\"<\"\n",
        "            input = torch.tensor([self.stoi[c] for c in text], device=self.device)\n",
        "\n",
        "        with torch.no_grad():\n",
        "            for t in range(input.shape[0]):\n",
        "                output, loss = self.forward(input, y=None)\n",
        "\n",
        "        spaces=True\n",
        "        if level=='character': spaces=False\n",
        "        pred_transl, _ = self.decode_output(output,spaces=spaces)\n",
        "\n",
        "        # if check_google:\n",
        "        #     try:\n",
        "        #         translator = google_translator()\n",
        "        #         google_transl = translator.translate(english_text, lang_src='en', lang_tgt='fr')\n",
        "        #     except:\n",
        "        #         google_transl = \"Error accessing Google translate.\"\n",
        "        #     return pred_transl, google_transl\n",
        "        # else:\n",
        "\n",
        "        return pred_transl\n",
        "\n",
        "    def decode_output(self, output, label=None, spaces=False):\n",
        "        \"\"\"Returns predicted translation, true translation ( = None if label is None)\"\"\"\n",
        "        pred = []\n",
        "        truth = [] if label is not None else None\n",
        "        \n",
        "        # input = [itos[ix.item()] for ix in x]\n",
        "        for i in range(len(output)):\n",
        "            pred.append(self.itos[output[i]])\n",
        "        if label is not None:\n",
        "            for i in range(len(label)):\n",
        "                truth.append(self.itos[label[i].item()])\n",
        "\n",
        "        if spaces:\n",
        "            pred_transl = \" \".join(pred)\n",
        "            true_transl = \" \".join(truth) if label is not None else None\n",
        "        else:\n",
        "            pred_transl = \"\".join(pred)\n",
        "            true_transl = \"\".join(truth) if label is not None else None\n",
        "        return pred_transl, true_transl\n"
      ],
      "metadata": {
        "id": "bgrdyeegrXnv"
      },
      "execution_count": 117,
      "outputs": []
    },
    {
      "cell_type": "markdown",
      "source": [
        "# Data"
      ],
      "metadata": {
        "id": "u-g9x5n0uGZe"
      }
    },
    {
      "cell_type": "code",
      "source": [
        "MAX_CHARS = 30\n",
        "START_CHR = '>'\n",
        "STOP_CHR = '<'\n",
        "\n",
        "english, french = import_data(\"/content/gdrive/MyDrive/Colab/seq2seq_transl/eng-fra.txt\",\n",
        "                              max_english_chars=MAX_CHARS, max_french_chars=MAX_CHARS)"
      ],
      "metadata": {
        "id": "ye_rshX4UqXS"
      },
      "execution_count": 8,
      "outputs": []
    },
    {
      "cell_type": "markdown",
      "source": [
        "Model can operate on the character level..."
      ],
      "metadata": {
        "id": "NbR3wM_J7eBJ"
      }
    },
    {
      "cell_type": "code",
      "source": [
        "# eng_chars = set(''.join(english))\n",
        "# fra_chars = set(''.join(french))\n",
        "all_chars = set(''.join(english + french))\n",
        "\n",
        "stoi = {s:i+2 for i, s in enumerate(all_chars)} ##create dictionary mapping from char to int\n",
        "stoi[START_CHR] = 1\n",
        "stoi[STOP_CHR] = 0\n",
        "itos = {i:s for s, i in stoi.items()}\n",
        "\n",
        "\n",
        "print(len(english))\n",
        "print(len(all_chars))\n",
        "print(\"max english length = \", len(max(english, key=len)), \"chars\")\n",
        "print(\"max french length = \", len(max(french, key=len)), \"chars\")"
      ],
      "metadata": {
        "colab": {
          "base_uri": "https://localhost:8080/"
        },
        "id": "RvK3XTpfresu",
        "outputId": "8358fb6d-6978-42ba-ba0a-08a00a444c72"
      },
      "execution_count": 9,
      "outputs": [
        {
          "output_type": "stream",
          "name": "stdout",
          "text": [
            "51177\n",
            "98\n",
            "max english length =  30 chars\n",
            "max french length =  30 chars\n"
          ]
        }
      ]
    },
    {
      "cell_type": "markdown",
      "source": [
        "Or the word level."
      ],
      "metadata": {
        "id": "Qi3hf0fp7gnl"
      }
    },
    {
      "cell_type": "code",
      "source": [
        "KEEP_PUNCT = \"'-\"\n",
        "remove_punct = ''.join([p for p in string.punctuation if p not in KEEP_PUNCT])\n",
        "# join all phrases with space in between\n",
        "all_words = ' '.join(english + french)\n",
        "# remove punctuation characters except for those not in remove_punct\n",
        "all_words = ''.join([c for c in all_words if c not in remove_punct])\n",
        "\n",
        "# create mapping from string to int\n",
        "wtoi = {word:i+2 for i, word in enumerate( sorted(set(all_words.lower().split())) )}\n",
        "wtoi[START_CHR] = 1\n",
        "wtoi[STOP_CHR] = 0\n",
        "\n",
        "itow = {i:w for w, i in wtoi.items()}"
      ],
      "metadata": {
        "id": "E3Z9mqv71ryD"
      },
      "execution_count": 89,
      "outputs": []
    },
    {
      "cell_type": "code",
      "source": [
        "print(\"total words in vocab =\", len(wtoi))"
      ],
      "metadata": {
        "colab": {
          "base_uri": "https://localhost:8080/"
        },
        "id": "TMge4zch6k9U",
        "outputId": "835b5384-c72c-4e01-bb71-fbe66f793f93"
      },
      "execution_count": 90,
      "outputs": [
        {
          "output_type": "stream",
          "name": "stdout",
          "text": [
            "total words in vocab = 19222\n"
          ]
        }
      ]
    },
    {
      "cell_type": "code",
      "source": [],
      "metadata": {
        "id": "eqkjyUHLol_h"
      },
      "execution_count": 107,
      "outputs": []
    },
    {
      "cell_type": "markdown",
      "source": [
        "Now generate inputs from the text data and the text to int mappings."
      ],
      "metadata": {
        "id": "QHVKxqXn7ji5"
      }
    },
    {
      "cell_type": "code",
      "source": [
        "N_SAMPLES = 1000 #len(english)\n",
        "Xs, Ys = words_to_word_data(english[:N_SAMPLES], french[:N_SAMPLES], \n",
        "                          wtoi, stop_char=STOP_CHR, \n",
        "                          device=device,\n",
        "                          keep_punct=KEEP_PUNCT)"
      ],
      "metadata": {
        "id": "HqpDJokvzAcC"
      },
      "execution_count": 91,
      "outputs": []
    },
    {
      "cell_type": "markdown",
      "source": [
        "# Train"
      ],
      "metadata": {
        "id": "xflO0BTFXnKk"
      }
    },
    {
      "cell_type": "markdown",
      "source": [
        "And initialize an encoder-decoder model."
      ],
      "metadata": {
        "id": "7codH-lz7p4k"
      }
    },
    {
      "cell_type": "code",
      "source": [
        "# MODEL\n",
        "n_words = len(wtoi)\n",
        "hidden_size = 128\n",
        "emb_dim = 64\n",
        "\n",
        "model = TranslGRU(vocab_size=n_words,\n",
        "                  enc_embed_dim=emb_dim,\n",
        "                  dec_embed_dim=emb_dim,\n",
        "                  dec_type=\"attention\",\n",
        "                  hidden_size=hidden_size,\n",
        "                  max_length=MAX_CHARS,\n",
        "                  stoi_mapping=wtoi, \n",
        "                  start_chr=START_CHR, stop_chr=STOP_CHR\n",
        "                  )\n",
        "model.init_weights(device=device)\n",
        "\n",
        "print(\"MODEL PARAMETERS:\", model.n_parameters)\n",
        "print(\"training samples:\", len(Xs))"
      ],
      "metadata": {
        "colab": {
          "base_uri": "https://localhost:8080/"
        },
        "id": "0vPEFxM0ufLc",
        "outputId": "22dbc507-ad01-4b43-ec48-11894b9e8a02"
      },
      "execution_count": 118,
      "outputs": [
        {
          "output_type": "stream",
          "name": "stdout",
          "text": [
            "MODEL PARAMETERS: 5106164\n",
            "training samples: 1000\n"
          ]
        }
      ]
    },
    {
      "cell_type": "code",
      "source": [
        "for n, p in zip(model.param_names, model.params):\n",
        "    print(f\"| {n}  | {p.shape[0], p.shape[1]} | n =  {p.nelement():,} | {p.device}\")"
      ],
      "metadata": {
        "colab": {
          "base_uri": "https://localhost:8080/"
        },
        "id": "SlvvrZvtbSSN",
        "outputId": "531140f8-20d9-4850-9a79-af5c6d3a24b5"
      },
      "execution_count": 102,
      "outputs": [
        {
          "output_type": "stream",
          "name": "stdout",
          "text": [
            "| enc_embed  | (19222, 64) | n =  1,230,208 | cuda:0\n",
            "| enc_W_reset  | (128, 192) | n =  24,576 | cuda:0\n",
            "| enc_br  | (128, 1) | n =  128 | cuda:0\n",
            "| enc_W_update  | (128, 192) | n =  24,576 | cuda:0\n",
            "| enc_bu  | (128, 1) | n =  128 | cuda:0\n",
            "| enc_W_htilde  | (128, 192) | n =  24,576 | cuda:0\n",
            "| W_att  | (30, 192) | n =  5,760 | cuda:0\n",
            "| ba  | (30, 1) | n =  30 | cuda:0\n",
            "| W_rel  | (64, 192) | n =  12,288 | cuda:0\n",
            "| brel  | (64, 1) | n =  64 | cuda:0\n",
            "| dec_embed  | (19222, 64) | n =  1,230,208 | cuda:0\n",
            "| dec_W_reset  | (128, 192) | n =  24,576 | cuda:0\n",
            "| dec_br  | (128, 1) | n =  128 | cuda:0\n",
            "| dec_W_update  | (128, 192) | n =  24,576 | cuda:0\n",
            "| dec_bu  | (128, 1) | n =  128 | cuda:0\n",
            "| dec_W_htilde  | (128, 192) | n =  24,576 | cuda:0\n",
            "| W_h2o  | (19222, 128) | n =  2,460,416 | cuda:0\n",
            "| b_h20  | (19222, 1) | n =  19,222 | cuda:0\n"
          ]
        }
      ]
    },
    {
      "cell_type": "markdown",
      "source": [
        "Let's try training the model on one example."
      ],
      "metadata": {
        "id": "JXJ0Ge5u8cSA"
      }
    },
    {
      "cell_type": "code",
      "source": [
        "# Testing model on a single phrase\n",
        "optimizer = torch.optim.Adam(model.params, lr=0.01)\n",
        "# (takes more iterations for longer phrases to be learned)\n",
        "for _ in range(200):\n",
        "    s = 999\n",
        "\n",
        "    x, y = Xs[s], Ys[s]\n",
        "\n",
        "    output, loss = model.forward(x, y, teacher_forcing_ratio=0)\n",
        "    model.backprop_update(optimizer)\n",
        "\n",
        "print(loss.item() / len(y))\n",
        "guess, true = model.decode_output(output, label=y, spaces=True)\n",
        "print(\"Guess:\", guess)\n",
        "print(\"True:\", true)\n",
        "print(\"English:\", ' '.join([itow[i.item()] for i in x]))"
      ],
      "metadata": {
        "colab": {
          "base_uri": "https://localhost:8080/"
        },
        "id": "las1LQjbumZZ",
        "outputId": "06a7e5a1-47e1-486a-a6eb-97e73c133b74"
      },
      "execution_count": 114,
      "outputs": [
        {
          "output_type": "stream",
          "name": "stdout",
          "text": [
            "0.013236501812934875\n",
            "Guess: j'ai reçu de l'aide <\n",
            "True: j'ai reçu de l'aide <\n",
            "English: i had help <\n"
          ]
        }
      ]
    },
    {
      "cell_type": "markdown",
      "source": [
        "Now for some more serious training..."
      ],
      "metadata": {
        "id": "iDiqRqsxc2rE"
      }
    },
    {
      "cell_type": "code",
      "source": [
        "# Reset weights\n",
        "model.init_weights(device, seed=10418)\n",
        "optimizer = torch.optim.Adam(model.params, lr=3e-4)\n",
        "\n",
        "TF_RATIO = 0.5\n",
        "print_every = 1\n",
        "plot_every = 1\n",
        "epochs = 20\n",
        "log_file = '/content/gdrive/MyDrive/Colab/seq2seq_transl/train-log.txt'\n",
        "\n",
        "loss_list = []\n",
        "open(log_file, 'w').close() #empty the log file"
      ],
      "metadata": {
        "id": "zF5IemT4uu5p"
      },
      "execution_count": 127,
      "outputs": []
    },
    {
      "cell_type": "code",
      "source": [
        "assert (Xs[0].device == device) & (Ys[0].device == device), f\"put data on {device}\"\n",
        "\n",
        "strt = time.time()\n",
        "for epoch in range(1, epochs+1):\n",
        "    ep_loss = 0\n",
        "    sample_ix = [i for i in range(0, N_SAMPLES)]\n",
        "    random.shuffle(sample_ix)\n",
        "\n",
        "    # iterate through every sample in the training data\n",
        "    for sample in sample_ix:\n",
        "        x, y = Xs[sample], Ys[sample] ##already on device\n",
        "        output, loss = model.forward(x, y, teacher_forcing_ratio=TF_RATIO)\n",
        "        ep_loss += loss.item()\n",
        "\n",
        "        model.backprop_update(optimizer)\n",
        "    \n",
        "    # write epoch loss to log\n",
        "    with open(log_file, 'a') as f:\n",
        "      f.write(f'epoch {epoch}; loss {ep_loss / N_SAMPLES} \\n')\n",
        "\n",
        "    # print\n",
        "    if epoch % print_every == 0:\n",
        "        stp = time.time()\n",
        "        guess, true = model.decode_output(output, label=y, spaces=True) ##use the last training sample as an example\n",
        "\n",
        "        print(f\"({epoch}/{epochs}) loss = {round(ep_loss/N_SAMPLES, 6)}\", end=\" \")\n",
        "        print(f\"(elapsed: {round(stp-strt, 3)}s)\")\n",
        "        print(\"GUESS:\", guess, end=\"   \")\n",
        "        print(\"TRUTH:\", true, end=\"   \")\n",
        "        print(\"ENG:\", ' '.join([itow[i.item()] for i in x]))\n",
        "\n",
        "    if epoch % plot_every == 0:\n",
        "        loss_list.append(ep_loss/N_SAMPLES)"
      ],
      "metadata": {
        "colab": {
          "base_uri": "https://localhost:8080/"
        },
        "id": "HJIb4I_kuyRn",
        "outputId": "5bdad33c-4bd8-4d8d-8a27-4f67584ec8d0"
      },
      "execution_count": 130,
      "outputs": [
        {
          "output_type": "stream",
          "name": "stdout",
          "text": [
            "(1/20) loss = 6.895785 (elapsed: 8.911s)\n",
            "GUESS: nous avons <   TRUTH: nous discutâmes <   ENG: we talked <\n",
            "(2/20) loss = 6.701077 (elapsed: 17.812s)\n",
            "GUESS: je suis prêt <   TRUTH: je suis dur à cuire <   ENG: i'm tough <\n",
            "(3/20) loss = 6.580071 (elapsed: 26.738s)\n",
            "GUESS: soyez fait <   TRUTH: soyez satisfaites <   ENG: be content <\n",
            "(4/20) loss = 6.486535 (elapsed: 35.659s)\n",
            "GUESS: assieds-toi <   TRUTH: calmez-vous <   ENG: cool down <\n",
            "(5/20) loss = 6.306553 (elapsed: 44.539s)\n",
            "GUESS: à <   TRUTH: est-ce sérieux <   ENG: seriously <\n",
            "(6/20) loss = 6.122873 (elapsed: 53.36s)\n",
            "GUESS: qui est <   TRUTH: qui est-ce <   ENG: who is it <\n",
            "(7/20) loss = 5.930785 (elapsed: 62.29s)\n",
            "GUESS: je me suis pas <   TRUTH: je me fais vraiment du souci <   ENG: i do worry <\n",
            "(8/20) loss = 5.879765 (elapsed: 71.252s)\n",
            "GUESS: je ferai <   TRUTH: je passerai <   ENG: i'll pass <\n",
            "(9/20) loss = 5.588598 (elapsed: 80.214s)\n",
            "GUESS: il est <   TRUTH: il a laissé tomber <   ENG: he quit <\n",
            "(10/20) loss = 5.563114 (elapsed: 89.111s)\n",
            "GUESS: je suis fainéante <   TRUTH: je suis paresseuse <   ENG: i am lazy <\n",
            "(11/20) loss = 5.429677 (elapsed: 98.064s)\n",
            "GUESS: je suis certain <   TRUTH: je suis paresseux <   ENG: i'm lazy <\n",
            "(12/20) loss = 5.236913 (elapsed: 107.001s)\n",
            "GUESS: je suis occupé <   TRUTH: je suis malade <   ENG: i am sick <\n",
            "(13/20) loss = 5.081064 (elapsed: 115.986s)\n",
            "GUESS: est-ce que <   TRUTH: est-ce que c'est vous <   ENG: is it you <\n",
            "(14/20) loss = 5.014845 (elapsed: 125.021s)\n",
            "GUESS: ne a pas pas <   TRUTH: ne vous précipitez pas <   ENG: don't rush <\n",
            "(15/20) loss = 4.990831 (elapsed: 133.998s)\n",
            "GUESS: je suis timide <   TRUTH: je suis restée <   ENG: i stayed <\n",
            "(16/20) loss = 4.849234 (elapsed: 142.984s)\n",
            "GUESS: soyez sérieux <   TRUTH: soyez sérieuse <   ENG: be serious <\n",
            "(17/20) loss = 4.663729 (elapsed: 151.968s)\n",
            "GUESS: réveillez-vous <   TRUTH: réveille-toi <   ENG: wake up <\n",
            "(18/20) loss = 4.626519 (elapsed: 161.048s)\n",
            "GUESS: nous avons timides <   TRUTH: nous sommes tombés d'accord <   ENG: we agreed <\n",
            "(19/20) loss = 4.414995 (elapsed: 170.055s)\n",
            "GUESS: excellent <   TRUTH: génial <   ENG: terrific <\n",
            "(20/20) loss = 4.34358 (elapsed: 179.105s)\n",
            "GUESS: nous sommes tombés <   TRUTH: nous sommes timides <   ENG: we're shy <\n"
          ]
        }
      ]
    },
    {
      "cell_type": "code",
      "source": [
        "losses = []\n",
        "with open(log_file, \"r\") as f:\n",
        "  for line in f:\n",
        "    line = line.strip()\n",
        "    losses.append( float(line.split()[-1]) )\n",
        "\n",
        "plt.plot(losses)\n",
        "plt.title(f\"Loss every {plot_every} epochs\")\n",
        "plt.show()"
      ],
      "metadata": {
        "colab": {
          "base_uri": "https://localhost:8080/",
          "height": 281
        },
        "id": "dCM81qmq7RKZ",
        "outputId": "5397d178-e689-45f9-ba80-6d03ccd0586a"
      },
      "execution_count": 131,
      "outputs": [
        {
          "output_type": "display_data",
          "data": {
            "text/plain": [
              "<Figure size 432x288 with 1 Axes>"
            ],
            "image/png": "[encoded data removed]"
          },
          "metadata": {
            "needs_background": "light"
          }
        }
      ]
    },
    {
      "cell_type": "code",
      "source": [
        "plot_grad_flow_basic(model.params, model.param_names, y_ax_max=\"max_average\")"
      ],
      "metadata": {
        "colab": {
          "base_uri": "https://localhost:8080/",
          "height": 298
        },
        "id": "WlUHtZMd7ZqH",
        "outputId": "81d969ad-eeff-4535-90aa-2d7a101a60e3"
      },
      "execution_count": 132,
      "outputs": [
        {
          "output_type": "display_data",
          "data": {
            "text/plain": [
              "<Figure size 432x288 with 1 Axes>"
            ],
            "image/png": "[encoded data removed]"
          },
          "metadata": {
            "needs_background": "light"
          }
        }
      ]
    },
    {
      "cell_type": "markdown",
      "source": [
        "# Inference"
      ],
      "metadata": {
        "id": "Ay1K04mSlZ-S"
      }
    },
    {
      "cell_type": "code",
      "source": [
        "model.evaluate(\"Deep learning is fun\", level=\"word\") ##my output is 'trouve un boulot <' which actually translates to 'find a job'... damn"
      ],
      "metadata": {
        "colab": {
          "base_uri": "https://localhost:8080/",
          "height": 35
        },
        "id": "-0wfYlHylbtU",
        "outputId": "062b4dd9-b6c4-4912-ae40-0138f0b7d3d4"
      },
      "execution_count": 136,
      "outputs": [
        {
          "output_type": "execute_result",
          "data": {
            "text/plain": [
              "'trouve un boulot <'"
            ],
            "application/vnd.google.colaboratory.intrinsic+json": {
              "type": "string"
            }
          },
          "metadata": {},
          "execution_count": 136
        }
      ]
    }
  ]
}